{
 "cells": [
  {
   "cell_type": "markdown",
   "metadata": {},
   "source": [
    "<h1>Return win testing</h1>\n",
    "<h3>This shows how bookies make their money.</h3>\n",
    "<p>This testing is to show the phenomena I have discovered when tesing against bet amounts with different accuracy levels.</p>\n",
    "<br/>\n",
    "<p>This testing is in correlation with the study of 'The Law of Large Numbers' and helps to understand why the bookies make their money and why nearly all favourites are priced below $2.0</p>\n",
    "<p>This testing shows that over a large amount of time (no matter the accuracy) the bettor is almost guarenteed to lose based on the odds alone</p>"
   ]
  },
  {
   "cell_type": "code",
   "execution_count": 1,
   "metadata": {},
   "outputs": [],
   "source": [
    "# random number generation\n",
    "import random"
   ]
  },
  {
   "cell_type": "code",
   "execution_count": 2,
   "metadata": {},
   "outputs": [],
   "source": [
    "# set initial bank of $1000\n",
    "initial_bank = 1000\n",
    "\n",
    "# testing epochs (iterations)\n",
    "testing_epochs = 100000"
   ]
  },
  {
   "cell_type": "code",
   "execution_count": null,
   "metadata": {},
   "outputs": [],
   "source": [
    "# 10% - 100% accuracy\n",
    "for i in range(10, 100):\n",
    "    \n",
    "    # accuracy between range divided by 100 (50% = 0.50)\n",
    "    accuracy = i / 100\n",
    "    \n",
    "    # $1 - $10 return win\n",
    "    for ii in range(100, 1000):\n",
    "        wins = 0\n",
    "        losses = 0\n",
    "\n",
    "        # return win between range divided by 100 (150 = 1.50)\n",
    "        return_win = ii / 100\n",
    "        \n",
    "        # dollar amount to place on bets\n",
    "        bet_amount = 1 # testing shows this makes no significant difference to outcome\n",
    "        \n",
    "        # copy bank for testing later\n",
    "        bank = initial_bank\n",
    "        \n",
    "        # loop through each iteration (more epochs = better testing accuracy)\n",
    "        for iii in range(testing_epochs):\n",
    "            # make a random pick between 0.0 and 1.0\n",
    "            pick = random.random()\n",
    "            # check if pick is within accuracy (win)\n",
    "            if pick < accuracy:\n",
    "                wins += 1\n",
    "                # remove the bet amount\n",
    "                bank -= bet_amount\n",
    "                # add the win amount\n",
    "                bank += (bet_amount * return_win)\n",
    "            else:\n",
    "                losses += 1\n",
    "                # remove the bet amount\n",
    "                bank -= bet_amount\n",
    "\n",
    "        # calculate the % growth compared to initial bank value\n",
    "        bank_growth = ((bank / initial_bank)) if bank > initial_bank else (initial_bank / bank)\n",
    "        \n",
    "        # if the bank growth is above 0 we have a profit\n",
    "        if bank_growth > 0:\n",
    "            # print our output (uncomment first two print statements for full output)\n",
    "            \n",
    "            #print(f\"epochs: {testing_epochs}, wins: {wins}, losses: {losses}, desired_acc: {accuracy}, acc: {wins / (wins + losses)}\")\n",
    "            #print(f\"init_bank: {initial_bank}, bank: {bank}, return: {return_win}, bank_growth: {bank_growth}\")\n",
    "            print(f\"desired_acc: {accuracy}, achieved_acc: {wins / (wins + losses)}, return_win: {return_win}\")\n",
    "            print()\n",
    "            \n",
    "            # break the $ loop to go into the next accuracy %\n",
    "            break"
   ]
  },
  {
   "cell_type": "code",
   "execution_count": null,
   "metadata": {},
   "outputs": [],
   "source": []
  }
 ],
 "metadata": {
  "kernelspec": {
   "display_name": "Python 3",
   "language": "python",
   "name": "python3"
  },
  "language_info": {
   "codemirror_mode": {
    "name": "ipython",
    "version": 3
   },
   "file_extension": ".py",
   "mimetype": "text/x-python",
   "name": "python",
   "nbconvert_exporter": "python",
   "pygments_lexer": "ipython3",
   "version": "3.8.3"
  }
 },
 "nbformat": 4,
 "nbformat_minor": 4
}
